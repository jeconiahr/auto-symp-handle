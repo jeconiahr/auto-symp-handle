{
 "cells": [
  {
   "cell_type": "code",
   "execution_count": 1,
   "metadata": {},
   "outputs": [],
   "source": [
    "# Libraries\n",
    "import pandas as pd"
   ]
  },
  {
   "cell_type": "code",
   "execution_count": 2,
   "metadata": {},
   "outputs": [
    {
     "name": "stdout",
     "output_type": "stream",
     "text": [
      "<class 'pandas.core.frame.DataFrame'>\n",
      "RangeIndex: 100 entries, 0 to 99\n",
      "Data columns (total 22 columns):\n",
      " #   Column                 Non-Null Count  Dtype  \n",
      "---  ------                 --------------  -----  \n",
      " 0   keluhan_utama          100 non-null    object \n",
      " 1   jalannya_penyakit      98 non-null     object \n",
      " 2   pemeriksaan_penunjang  61 non-null     object \n",
      " 3   hasil_laboratorium     51 non-null     object \n",
      " 4   diagnosa_utama         49 non-null     object \n",
      " 5   kode_icd_utama         49 non-null     object \n",
      " 6   diagnosa_sekunder_1    2 non-null      object \n",
      " 7   kode_icd_sekunder_1    3 non-null      object \n",
      " 8   diagnosa_sekunder_2    0 non-null      float64\n",
      " 9   kode_icd_sekunder_2    0 non-null      float64\n",
      " 10  diagnosa_sekunder_3    0 non-null      float64\n",
      " 11  kode_icd_sekunder_3    0 non-null      float64\n",
      " 12  diagnosa_sekunder_4    0 non-null      float64\n",
      " 13  kode_icd_sekunder_4    0 non-null      float64\n",
      " 14  prosedur_utama         1 non-null      object \n",
      " 15  prosedur_sekunder_1    0 non-null      float64\n",
      " 16  prosedur_sekunder_2    0 non-null      float64\n",
      " 17  prosedur_sekunder_3    0 non-null      float64\n",
      " 18  kondisi_pulang         58 non-null     object \n",
      " 19  obat_waktu_pulang      99 non-null     object \n",
      " 20  filename               100 non-null    object \n",
      " 21  folder                 100 non-null    object \n",
      "dtypes: float64(9), object(13)\n",
      "memory usage: 17.3+ KB\n"
     ]
    }
   ],
   "source": [
    "# Get records\n",
    "\n",
    "filename = \"records/extracted_diagnoses_maret_april.csv\"\n",
    "ash_df = pd.read_csv(filename)\n",
    "\n",
    "ash_df.info()"
   ]
  },
  {
   "cell_type": "code",
   "execution_count": 3,
   "metadata": {},
   "outputs": [
    {
     "name": "stdout",
     "output_type": "stream",
     "text": [
      "<class 'pandas.core.frame.DataFrame'>\n",
      "RangeIndex: 100 entries, 0 to 99\n",
      "Data columns (total 13 columns):\n",
      " #   Column                 Non-Null Count  Dtype \n",
      "---  ------                 --------------  ----- \n",
      " 0   keluhan_utama          100 non-null    object\n",
      " 1   jalannya_penyakit      98 non-null     object\n",
      " 2   pemeriksaan_penunjang  61 non-null     object\n",
      " 3   hasil_laboratorium     51 non-null     object\n",
      " 4   diagnosa_utama         49 non-null     object\n",
      " 5   kode_icd_utama         49 non-null     object\n",
      " 6   diagnosa_sekunder_1    2 non-null      object\n",
      " 7   kode_icd_sekunder_1    3 non-null      object\n",
      " 8   prosedur_utama         1 non-null      object\n",
      " 9   kondisi_pulang         58 non-null     object\n",
      " 10  obat_waktu_pulang      99 non-null     object\n",
      " 11  filename               100 non-null    object\n",
      " 12  folder                 100 non-null    object\n",
      "dtypes: object(13)\n",
      "memory usage: 10.3+ KB\n"
     ]
    }
   ],
   "source": [
    "ash_df_cleaned = ash_df.dropna(axis=1, how='all')\n",
    "ash_df_cleaned.info()"
   ]
  },
  {
   "cell_type": "markdown",
   "metadata": {},
   "source": [
    "# Tokenization with NLTK"
   ]
  },
  {
   "cell_type": "code",
   "execution_count": 4,
   "metadata": {},
   "outputs": [],
   "source": [
    "from nltk.corpus import stopwords\n",
    "from nltk.tokenize import word_tokenize\n",
    "import re"
   ]
  },
  {
   "cell_type": "code",
   "execution_count": 5,
   "metadata": {},
   "outputs": [],
   "source": [
    "# Preprocess the Data\n",
    "def preprocess_text(text):\n",
    "    text = text.lower()\n",
    "    text = re.sub(r'[^\\w\\s]', '', text) # Remove all punctuations\n",
    "    return text"
   ]
  },
  {
   "cell_type": "code",
   "execution_count": null,
   "metadata": {},
   "outputs": [
    {
     "name": "stderr",
     "output_type": "stream",
     "text": [
      "/var/folders/m7/zdxv2v7533n6g6x152zvnktm0000gn/T/ipykernel_77709/2323696214.py:1: SettingWithCopyWarning: \n",
      "A value is trying to be set on a copy of a slice from a DataFrame\n",
      "\n",
      "See the caveats in the documentation: https://pandas.pydata.org/pandas-docs/stable/user_guide/indexing.html#returning-a-view-versus-a-copy\n",
      "  ash_df_cleaned.loc[0] = ash_df_cleaned[\"keluhan_utama\"].apply(preprocess_text)\n"
     ]
    }
   ],
   "source": [
    "ash_df_cleaned[\"keluhan_utama_cleaned\"] = ash_df_cleaned.loc[0].apply(preprocess_text)"
   ]
  },
  {
   "cell_type": "code",
   "execution_count": null,
   "metadata": {},
   "outputs": [],
   "source": [
    "ash_df_cleaned"
   ]
  }
 ],
 "metadata": {
  "kernelspec": {
   "display_name": "ash_venv",
   "language": "python",
   "name": "python3"
  },
  "language_info": {
   "codemirror_mode": {
    "name": "ipython",
    "version": 3
   },
   "file_extension": ".py",
   "mimetype": "text/x-python",
   "name": "python",
   "nbconvert_exporter": "python",
   "pygments_lexer": "ipython3",
   "version": "3.12.0"
  }
 },
 "nbformat": 4,
 "nbformat_minor": 2
}
